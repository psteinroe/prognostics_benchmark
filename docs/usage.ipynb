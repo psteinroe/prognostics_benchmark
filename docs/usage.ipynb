{
 "cells": [
  {
   "cell_type": "code",
   "execution_count": 1,
   "metadata": {
    "collapsed": true
   },
   "outputs": [],
   "source": [
    "import sys\n",
    "import os\n",
    "from datetime import timedelta\n",
    "\n",
    "sys.path.append(os.path.abspath('../prognostics_benchmark'))\n",
    "from prognostics_benchmark import Benchmark\n",
    "from prognostics_benchmark.detectors import XGBClassifierDetector, MultiModelHTMDetector\n",
    "from prognostics_benchmark.evaluators import MaintenanceCostEvaluator"
   ]
  },
  {
   "cell_type": "markdown",
   "source": [
    "This notebook contains examples on how to use the benchmark as a module.\n",
    "\n",
    "### Basic Usage"
   ],
   "metadata": {
    "collapsed": false
   }
  },
  {
   "cell_type": "code",
   "execution_count": null,
   "outputs": [],
   "source": [
    "benchmark = Benchmark()\n",
    "\n",
    "# get information on current content\n",
    "print(benchmark.dataset_ids)\n",
    "print(benchmark.get_detector_names())\n",
    "print(benchmark.get_evaluator_names())\n",
    "\n",
    "# evaluate an algorithm on the benchmark\n",
    "res = benchmark.score(\n",
    "        detector_name='MultiModelHTMDetector',\n",
    "        evaluator_name='MaintenanceCostEvaluator',\n",
    "        verbose=True\n",
    ")\n",
    "\n",
    "# you can also overwrite the default params and the default config of the detector and the evaluator\n",
    "my_evaluator_config = {\n",
    "    'harddrive': {\n",
    "        'lead_time': timedelta(days=4),\n",
    "        'relevant_maintenance_factor': 5,\n",
    "        'cost_rate': 20,\n",
    "    },\n",
    "    'turbofan_engine': {\n",
    "        'lead_time': timedelta(days=5),\n",
    "        'relevant_maintenance_factor': 3,\n",
    "        'cost_rate': 50.33,\n",
    "    },\n",
    "    'water_pump': {\n",
    "        'lead_time': timedelta(hours=36),\n",
    "        'relevant_maintenance_factor': 3,\n",
    "        'cost_rate': 7.01,\n",
    "    },\n",
    "    'production_plant': {\n",
    "        'lead_time': timedelta(hours=2),\n",
    "        'relevant_maintenance_factor': 5,\n",
    "        'cost_rate': 18.13,\n",
    "    }\n",
    "}\n",
    "res = benchmark.score(\n",
    "        detector_name='MultiModelHTMDetector',\n",
    "        evaluator_name='MaintenanceCostEvaluator',\n",
    "        evaluator_config=my_evaluator_config,\n",
    "        verbose=True\n",
    ")\n",
    "# you can also specify dataset ids to only evaluate on certain datasets\n",
    "res = benchmark.score(\n",
    "        detector_name='MultiModelHTMDetector',\n",
    "        evaluator_name='MaintenanceCostEvaluator',\n",
    "        dataset_ids=['turbofan_engine', 'harddrive'],\n",
    "        verbose=True\n",
    ")\n",
    "\n",
    "# do stuff directly on a dataset\n",
    "turbofan_engine_dataset = benchmark.get_dataset('turbofan_engine')\n",
    "print(turbofan_engine_dataset.model_ids)\n",
    "print(turbofan_engine_dataset.get_equipment_ids_for_model('FD001'))\n",
    "\n",
    "print(turbofan_engine_dataset.rtf_ids)\n",
    "print(turbofan_engine_dataset.get_rtf_ids_for_model(model_id='FD001'))\n",
    "print(turbofan_engine_dataset.get_rtf_ids_for_equipment(model_id='FD001', equipment_id='1'))\n",
    "\n",
    "turbofan_engine_evaluator = MaintenanceCostEvaluator(dataset_id='turbofan_engine')\n",
    "\n",
    "# This will create one instance of Detector for each model\n",
    "res = turbofan_engine_dataset.evaluate_on_models(\n",
    "    Detector=MultiModelHTMDetector,\n",
    "    evaluator=turbofan_engine_evaluator\n",
    ")\n",
    "# You can also specify specific models\n",
    "res = turbofan_engine_dataset.evaluate_on_models(\n",
    "    Detector=MultiModelHTMDetector,\n",
    "    evaluator=turbofan_engine_evaluator,\n",
    "    model_ids=['FD001', 'FD002']\n",
    ")\n",
    "\n",
    "# This will create one instance of Detector for each equipment\n",
    "res = turbofan_engine_dataset.evaluate_on_equipments(\n",
    "    Detector=MultiModelHTMDetector,\n",
    "    evaluator=turbofan_engine_evaluator,\n",
    "    model_id='FD001'\n",
    ")\n",
    "# Again, you can specify equipments\n",
    "res = turbofan_engine_dataset.evaluate_on_equipments(\n",
    "    Detector=MultiModelHTMDetector,\n",
    "    evaluator=turbofan_engine_evaluator,\n",
    "    model_id='FD001',\n",
    "    equipment_ids=['1', '2', '3']\n",
    ")\n",
    "\n",
    "# do stuff directly on a RtF\n",
    "rtf = turbofan_engine_dataset.get_rtf('FD001_1_0')\n",
    "print(rtf.id)\n",
    "print(rtf.equi_id)\n",
    "print(rtf.model_id)\n",
    "print(rtf.dataset_id)\n",
    "\n",
    "# Get time series\n",
    "df_rtf = rtf.get_df()\n",
    "\n",
    "# Evaluate on a RtF\n",
    "detector = MultiModelHTMDetector(evaluator=turbofan_engine_evaluator)\n",
    "df_results = rtf.score(detector=detector, verbose=True)"
   ],
   "metadata": {
    "collapsed": false,
    "pycharm": {
     "name": "#%%\n"
    }
   }
  },
  {
   "cell_type": "markdown",
   "source": [
    "### Additional Functionalities\n",
    "#### Parameter Optimization\n",
    "You can use the optimizer to optimize the parameters of your algorithm. It is based on [Bayesian Optimization](https://github.com/fmfn/BayesianOptimization) and allows you to run parameter optimization on the entire corpus, specific datasets, models, equipments and even individual RtFs."
   ],
   "metadata": {
    "collapsed": false
   }
  },
  {
   "cell_type": "code",
   "execution_count": null,
   "outputs": [],
   "source": [
    "from prognostics_benchmark.optimization.optimizer import Optimizer\n",
    "\n",
    "# Provide bounds for the parameters you want to optimize.\n",
    "# For more information read about bayesian optimization.\n",
    "p_bounds = {\n",
    "    'short_htm_probationary_period': (20, 100),\n",
    "    'short_spot_probationary_period_ratio': (0.1, 1),\n",
    "    'short_smoothing_kernel_size_ratio': (0.1, 1),\n",
    "    'short_spot_q': (0.0001, 0.5),\n",
    "    'short_spot_depth_ratio': (0.1, 0.6),\n",
    "    'long_htm_probationary_period': (106, 5000),\n",
    "    'long_spot_probationary_period_ratio': (0.1, 1),\n",
    "    'long_smoothing_kernel_size_ratio': (0.1, 1),\n",
    "    'long_spot_q': (0.0001, 0.5),\n",
    "    'long_spot_depth_ratio': (0.1, 0.6),\n",
    "}\n",
    "\n",
    "optimizer = Optimizer(\n",
    "    out_path=os.path.join('opt_logs'),  # path to which to write the logs\n",
    "    p_bounds=p_bounds,  # bounds dict\n",
    "    # if true, it checks if bounds are provided for all parameters and\n",
    "    # raises an exception otherwise.\n",
    "    # If false, it fills up missing parameters with their default setting.\n",
    "    exact=True,\n",
    "    evaluator_name='MaintenanceCostEvaluator',\n",
    "    detector_name='MultiModelHTMDetector',\n",
    "    init_points = 5,\n",
    "    n_iter = 15\n",
    ")\n",
    "optimizer.optimize()"
   ],
   "metadata": {
    "collapsed": false,
    "pycharm": {
     "name": "#%%\n"
    }
   }
  },
  {
   "cell_type": "markdown",
   "source": [
    "You can also provide dataset_id, dataset_ids, model_ids and rtf_id depending on on what you want to optimize.\n",
    "+ If rtf_id is provided, it will optimize on that RtF and ignore all other parameters\n",
    "+ If model_ids is provided, it will optimize on these models. Requires dataset_id to be also set.\n",
    "+ If dataset_id is set but not model_ids, it optimizes on all models of the given dataset\n",
    "+ If none of the above is set, it will optimize on the entire benchmark.\n",
    "#### Plotting\n",
    "Both, evaluator and detector, have plotting functionalities which can be overwritten by the respective implementation."
   ],
   "metadata": {
    "collapsed": false
   }
  },
  {
   "cell_type": "code",
   "execution_count": 4,
   "outputs": [

    {
     "name": "stdout",
     "output_type": "stream",
     "text": [
      "{'evaluation': 92.808, 'failure_prevented': True, 'n_maintenance_activities': 8, 'plot': <Figure size 432x288 with 1 Axes>}\n"
     ]
    },
    {
     "data": {
      "text/plain": "<Figure size 432x288 with 1 Axes>",
      "image/png": "[encoded data removed]"
     },
     "metadata": {
      "needs_background": "light"
     },
     "output_type": "display_data"
    }
   ],
   "source": [
    "import matplotlib.pyplot as plt\n",
    "\n",
    "benchmark = Benchmark()\n",
    "evaluator = MaintenanceCostEvaluator(dataset_id='turbofan_engine')\n",
    "detector = MultiModelHTMDetector(evaluator=evaluator)\n",
    "\n",
    "turbofan_engine_dataset = benchmark.get_dataset('turbofan_engine')\n",
    "rtf = turbofan_engine_dataset.get_rtf('FD001_1_0')\n",
    "df_score = rtf.score(detector=detector)\n",
    "detector.plot(df_score)\n",
    "evaluation = evaluator.evaluate_rtf(df_score, plot=True)\n",
    "plt.legend()\n",
    "print(evaluation)"
   ],
   "metadata": {
    "collapsed": false,
    "pycharm": {
     "name": "#%%\n"
    }
   }
  }
 ],
 "metadata": {
  "kernelspec": {
   "display_name": "Python 3",
   "language": "python",
   "name": "python3"
  },
  "language_info": {
   "codemirror_mode": {
    "name": "ipython",
    "version": 2
   },
   "file_extension": ".py",
   "mimetype": "text/x-python",
   "name": "python",
   "nbconvert_exporter": "python",
   "pygments_lexer": "ipython2",
   "version": "2.7.6"
  }
 },
 "nbformat": 4,
 "nbformat_minor": 0
}